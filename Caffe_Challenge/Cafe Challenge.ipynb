{
 "cells": [
  {
   "cell_type": "raw",
   "id": "30e7bd50-2703-4d6c-a685-d45b4a8237bd",
   "metadata": {},
   "source": [
    "Zadanie (spójny mini‑projekt łączący rozdz. 1–6)\n",
    "\n",
    "(Rozdz. 1 – Jupyter/IPython)\n",
    "Pokaż krótką pomoc dla pd.DataFrame (pd.DataFrame?) i zmierz %timeit różnicę między sumą qty*price liczoną pętlą vs. wektoryzacją w NumPy/Pandas (bez implementacji pętli „na wieki” – krótko).\n",
    "\n",
    "(Rozdz. 2 – NumPy)\n",
    "Z sales[\"qty\"] i sales[\"price\"] utwórz tablicę NumPy X o kształcie (n, 2).\n",
    "Użyj broadcastingu, by policzyć wektor „potencjalnego przychodu brutto” przy podwyżce cen o 10% (nie modyfikuj DataFrame).\n",
    "\n",
    "(Rozdz. 3–4 – pandas podstawy + indeksowanie)\n",
    "Dodaj kolumnę revenue = qty * price.\n",
    "Wyfiltruj sprzedaże z Krakowa i produktem „espresso” oraz qty >= 2.\n",
    "Posortuj wynik malejąco po revenue.\n",
    "\n",
    "(Rozdz. 5 – agregacje)\n",
    "Policz łączną liczbę sprzedanych produktów (qty.sum()).\n",
    "Policz średni przychód ze wszystkich transakcji (revenue.mean()).\n",
    "Policz medianę ceny (price.median()).\n",
    "\n",
    "(Rozdz. 6 – I/O)\n",
    "Zapisz przetworzone dane do sales_clean.csv (bez indeksu).\n",
    "Zapisz wybór kolumn (np. date, product, revenue) do summary.json w formacie orient=\"records\".\n",
    "Wczytaj sales_clean.csv z powrotem, ustawiając parse_dates=[\"date\"], i wypisz typy kolumn, żeby potwierdzić, że date jest datą."
   ]
  },
  {
   "cell_type": "code",
   "execution_count": 11,
   "id": "c47c04d1-d65e-437c-b325-c26eb4f2904f",
   "metadata": {},
   "outputs": [],
   "source": [
    "import pandas as pd\n",
    "import numpy as np"
   ]
  },
  {
   "cell_type": "code",
   "execution_count": 12,
   "id": "10663781-2a2c-4992-b7cf-04c6fa656461",
   "metadata": {},
   "outputs": [
    {
     "data": {
      "text/html": [
       "<div>\n",
       "<style scoped>\n",
       "    .dataframe tbody tr th:only-of-type {\n",
       "        vertical-align: middle;\n",
       "    }\n",
       "\n",
       "    .dataframe tbody tr th {\n",
       "        vertical-align: top;\n",
       "    }\n",
       "\n",
       "    .dataframe thead th {\n",
       "        text-align: right;\n",
       "    }\n",
       "</style>\n",
       "<table border=\"1\" class=\"dataframe\">\n",
       "  <thead>\n",
       "    <tr style=\"text-align: right;\">\n",
       "      <th></th>\n",
       "      <th>date</th>\n",
       "      <th>city</th>\n",
       "      <th>product</th>\n",
       "      <th>qty</th>\n",
       "      <th>price</th>\n",
       "    </tr>\n",
       "  </thead>\n",
       "  <tbody>\n",
       "    <tr>\n",
       "      <th>0</th>\n",
       "      <td>2020-01-01</td>\n",
       "      <td>Kraków</td>\n",
       "      <td>espresso</td>\n",
       "      <td>2</td>\n",
       "      <td>8.0</td>\n",
       "    </tr>\n",
       "    <tr>\n",
       "      <th>1</th>\n",
       "      <td>2020-01-01</td>\n",
       "      <td>Warszawa</td>\n",
       "      <td>latte</td>\n",
       "      <td>1</td>\n",
       "      <td>14.0</td>\n",
       "    </tr>\n",
       "    <tr>\n",
       "      <th>2</th>\n",
       "      <td>2020-01-02</td>\n",
       "      <td>Kraków</td>\n",
       "      <td>herbata</td>\n",
       "      <td>3</td>\n",
       "      <td>9.5</td>\n",
       "    </tr>\n",
       "    <tr>\n",
       "      <th>3</th>\n",
       "      <td>2020-01-02</td>\n",
       "      <td>Gdańsk</td>\n",
       "      <td>latte</td>\n",
       "      <td>2</td>\n",
       "      <td>13.0</td>\n",
       "    </tr>\n",
       "    <tr>\n",
       "      <th>4</th>\n",
       "      <td>2020-01-03</td>\n",
       "      <td>Kraków</td>\n",
       "      <td>espresso</td>\n",
       "      <td>1</td>\n",
       "      <td>8.5</td>\n",
       "    </tr>\n",
       "    <tr>\n",
       "      <th>5</th>\n",
       "      <td>2020-01-03</td>\n",
       "      <td>Warszawa</td>\n",
       "      <td>herbata</td>\n",
       "      <td>4</td>\n",
       "      <td>9.0</td>\n",
       "    </tr>\n",
       "    <tr>\n",
       "      <th>6</th>\n",
       "      <td>2020-01-04</td>\n",
       "      <td>Gdańsk</td>\n",
       "      <td>espresso</td>\n",
       "      <td>3</td>\n",
       "      <td>8.0</td>\n",
       "    </tr>\n",
       "    <tr>\n",
       "      <th>7</th>\n",
       "      <td>2020-01-04</td>\n",
       "      <td>Kraków</td>\n",
       "      <td>latte</td>\n",
       "      <td>2</td>\n",
       "      <td>NaN</td>\n",
       "    </tr>\n",
       "    <tr>\n",
       "      <th>8</th>\n",
       "      <td>2020-01-05</td>\n",
       "      <td>Warszawa</td>\n",
       "      <td>latte</td>\n",
       "      <td>3</td>\n",
       "      <td>13.5</td>\n",
       "    </tr>\n",
       "    <tr>\n",
       "      <th>9</th>\n",
       "      <td>2020-01-05</td>\n",
       "      <td>Gdańsk</td>\n",
       "      <td>herbata</td>\n",
       "      <td>1</td>\n",
       "      <td>10.0</td>\n",
       "    </tr>\n",
       "    <tr>\n",
       "      <th>10</th>\n",
       "      <td>2020-01-06</td>\n",
       "      <td>Kraków</td>\n",
       "      <td>espresso</td>\n",
       "      <td>4</td>\n",
       "      <td>8.0</td>\n",
       "    </tr>\n",
       "    <tr>\n",
       "      <th>11</th>\n",
       "      <td>2020-01-06</td>\n",
       "      <td>Warszawa</td>\n",
       "      <td>herbata</td>\n",
       "      <td>2</td>\n",
       "      <td>NaN</td>\n",
       "    </tr>\n",
       "  </tbody>\n",
       "</table>\n",
       "</div>"
      ],
      "text/plain": [
       "         date      city   product  qty  price\n",
       "0  2020-01-01    Kraków  espresso    2    8.0\n",
       "1  2020-01-01  Warszawa     latte    1   14.0\n",
       "2  2020-01-02    Kraków   herbata    3    9.5\n",
       "3  2020-01-02    Gdańsk     latte    2   13.0\n",
       "4  2020-01-03    Kraków  espresso    1    8.5\n",
       "5  2020-01-03  Warszawa   herbata    4    9.0\n",
       "6  2020-01-04    Gdańsk  espresso    3    8.0\n",
       "7  2020-01-04    Kraków     latte    2    NaN\n",
       "8  2020-01-05  Warszawa     latte    3   13.5\n",
       "9  2020-01-05    Gdańsk   herbata    1   10.0\n",
       "10 2020-01-06    Kraków  espresso    4    8.0\n",
       "11 2020-01-06  Warszawa   herbata    2    NaN"
      ]
     },
     "execution_count": 12,
     "metadata": {},
     "output_type": "execute_result"
    }
   ],
   "source": [
    "sales = pd.read_csv(\"sales.csv\", parse_dates=[\"date\"])\n",
    "sales"
   ]
  },
  {
   "cell_type": "code",
   "execution_count": 13,
   "id": "39a1de2a-87e3-4b63-a80e-1cbbde8129f2",
   "metadata": {},
   "outputs": [
    {
     "data": {
      "text/plain": [
       "\u001b[31mType:\u001b[39m        DataFrame\n",
       "\u001b[31mString form:\u001b[39m\n",
       "date      city   product  qty  price\n",
       "           0  2020-01-01    Kraków  espresso    2    8.0\n",
       "           1  20 <...>  10.0\n",
       "           10 2020-01-06    Kraków  espresso    4    8.0\n",
       "           11 2020-01-06  Warszawa   herbata    2    NaN\n",
       "\u001b[31mLength:\u001b[39m      12\n",
       "\u001b[31mFile:\u001b[39m        ~/miniforge3/envs/ml/lib/python3.11/site-packages/pandas/core/frame.py\n",
       "\u001b[31mDocstring:\u001b[39m  \n",
       "Two-dimensional, size-mutable, potentially heterogeneous tabular data.\n",
       "\n",
       "Data structure also contains labeled axes (rows and columns).\n",
       "Arithmetic operations align on both row and column labels. Can be\n",
       "thought of as a dict-like container for Series objects. The primary\n",
       "pandas data structure.\n",
       "\n",
       "Parameters\n",
       "----------\n",
       "data : ndarray (structured or homogeneous), Iterable, dict, or DataFrame\n",
       "    Dict can contain Series, arrays, constants, dataclass or list-like objects. If\n",
       "    data is a dict, column order follows insertion-order. If a dict contains Series\n",
       "    which have an index defined, it is aligned by its index. This alignment also\n",
       "    occurs if data is a Series or a DataFrame itself. Alignment is done on\n",
       "    Series/DataFrame inputs.\n",
       "\n",
       "    If data is a list of dicts, column order follows insertion-order.\n",
       "\n",
       "index : Index or array-like\n",
       "    Index to use for resulting frame. Will default to RangeIndex if\n",
       "    no indexing information part of input data and no index provided.\n",
       "columns : Index or array-like\n",
       "    Column labels to use for resulting frame when data does not have them,\n",
       "    defaulting to RangeIndex(0, 1, 2, ..., n). If data contains column labels,\n",
       "    will perform column selection instead.\n",
       "dtype : dtype, default None\n",
       "    Data type to force. Only a single dtype is allowed. If None, infer.\n",
       "copy : bool or None, default None\n",
       "    Copy data from inputs.\n",
       "    For dict data, the default of None behaves like ``copy=True``.  For DataFrame\n",
       "    or 2d ndarray input, the default of None behaves like ``copy=False``.\n",
       "    If data is a dict containing one or more Series (possibly of different dtypes),\n",
       "    ``copy=False`` will ensure that these inputs are not copied.\n",
       "\n",
       "    .. versionchanged:: 1.3.0\n",
       "\n",
       "See Also\n",
       "--------\n",
       "DataFrame.from_records : Constructor from tuples, also record arrays.\n",
       "DataFrame.from_dict : From dicts of Series, arrays, or dicts.\n",
       "read_csv : Read a comma-separated values (csv) file into DataFrame.\n",
       "read_table : Read general delimited file into DataFrame.\n",
       "read_clipboard : Read text from clipboard into DataFrame.\n",
       "\n",
       "Notes\n",
       "-----\n",
       "Please reference the :ref:`User Guide <basics.dataframe>` for more information.\n",
       "\n",
       "Examples\n",
       "--------\n",
       "Constructing DataFrame from a dictionary.\n",
       "\n",
       ">>> d = {'col1': [1, 2], 'col2': [3, 4]}\n",
       ">>> df = pd.DataFrame(data=d)\n",
       ">>> df\n",
       "   col1  col2\n",
       "0     1     3\n",
       "1     2     4\n",
       "\n",
       "Notice that the inferred dtype is int64.\n",
       "\n",
       ">>> df.dtypes\n",
       "col1    int64\n",
       "col2    int64\n",
       "dtype: object\n",
       "\n",
       "To enforce a single dtype:\n",
       "\n",
       ">>> df = pd.DataFrame(data=d, dtype=np.int8)\n",
       ">>> df.dtypes\n",
       "col1    int8\n",
       "col2    int8\n",
       "dtype: object\n",
       "\n",
       "Constructing DataFrame from a dictionary including Series:\n",
       "\n",
       ">>> d = {'col1': [0, 1, 2, 3], 'col2': pd.Series([2, 3], index=[2, 3])}\n",
       ">>> pd.DataFrame(data=d, index=[0, 1, 2, 3])\n",
       "   col1  col2\n",
       "0     0   NaN\n",
       "1     1   NaN\n",
       "2     2   2.0\n",
       "3     3   3.0\n",
       "\n",
       "Constructing DataFrame from numpy ndarray:\n",
       "\n",
       ">>> df2 = pd.DataFrame(np.array([[1, 2, 3], [4, 5, 6], [7, 8, 9]]),\n",
       "...                    columns=['a', 'b', 'c'])\n",
       ">>> df2\n",
       "   a  b  c\n",
       "0  1  2  3\n",
       "1  4  5  6\n",
       "2  7  8  9\n",
       "\n",
       "Constructing DataFrame from a numpy ndarray that has labeled columns:\n",
       "\n",
       ">>> data = np.array([(1, 2, 3), (4, 5, 6), (7, 8, 9)],\n",
       "...                 dtype=[(\"a\", \"i4\"), (\"b\", \"i4\"), (\"c\", \"i4\")])\n",
       ">>> df3 = pd.DataFrame(data, columns=['c', 'a'])\n",
       "...\n",
       ">>> df3\n",
       "   c  a\n",
       "0  3  1\n",
       "1  6  4\n",
       "2  9  7\n",
       "\n",
       "Constructing DataFrame from dataclass:\n",
       "\n",
       ">>> from dataclasses import make_dataclass\n",
       ">>> Point = make_dataclass(\"Point\", [(\"x\", int), (\"y\", int)])\n",
       ">>> pd.DataFrame([Point(0, 0), Point(0, 3), Point(2, 3)])\n",
       "   x  y\n",
       "0  0  0\n",
       "1  0  3\n",
       "2  2  3\n",
       "\n",
       "Constructing DataFrame from Series/DataFrame:\n",
       "\n",
       ">>> ser = pd.Series([1, 2, 3], index=[\"a\", \"b\", \"c\"])\n",
       ">>> df = pd.DataFrame(data=ser, index=[\"a\", \"c\"])\n",
       ">>> df\n",
       "   0\n",
       "a  1\n",
       "c  3\n",
       "\n",
       ">>> df1 = pd.DataFrame([1, 2, 3], index=[\"a\", \"b\", \"c\"], columns=[\"x\"])\n",
       ">>> df2 = pd.DataFrame(data=df1, index=[\"a\", \"c\"])\n",
       ">>> df2\n",
       "   x\n",
       "a  1\n",
       "c  3"
      ]
     },
     "metadata": {},
     "output_type": "display_data"
    }
   ],
   "source": [
    "#introspection\n",
    "sales?"
   ]
  },
  {
   "cell_type": "code",
   "execution_count": 14,
   "id": "fa123362-a3fe-46e0-ad05-47cbcaf536d1",
   "metadata": {},
   "outputs": [
    {
     "name": "stdout",
     "output_type": "stream",
     "text": [
      "338 μs ± 10.3 μs per loop (mean ± std. dev. of 7 runs, 1,000 loops each)\n"
     ]
    }
   ],
   "source": [
    "%%timeit\n",
    "#computing total revenue as price * qty using a for loop\n",
    "total = 0\n",
    "for row in sales.itertuples():\n",
    "    q = row.qty\n",
    "    p = 0 if pd.isna(row.price) else row.price\n",
    "    total += q * p"
   ]
  },
  {
   "cell_type": "code",
   "execution_count": 15,
   "id": "759a1223-f671-4deb-af28-e7988fa375f0",
   "metadata": {},
   "outputs": [
    {
     "name": "stdout",
     "output_type": "stream",
     "text": [
      "104 μs ± 9.13 μs per loop (mean ± std. dev. of 7 runs, 10,000 loops each)\n"
     ]
    }
   ],
   "source": [
    "%%timeit\n",
    "#computing total revenue as price * qty using a vectorization\n",
    "sum_vec = (sales[\"price\"] * sales[\"qty\"]).sum()"
   ]
  },
  {
   "cell_type": "code",
   "execution_count": 16,
   "id": "3cbe8040-6ccc-4930-af1d-61a8b859361a",
   "metadata": {},
   "outputs": [
    {
     "data": {
      "text/plain": [
       "(12, 2)"
      ]
     },
     "execution_count": 16,
     "metadata": {},
     "output_type": "execute_result"
    }
   ],
   "source": [
    "#ndarray shape(n,2) from DataFrame\n",
    "X = sales[[\"qty\", \"price\"]].to_numpy()\n",
    "X.shape"
   ]
  },
  {
   "cell_type": "code",
   "execution_count": 17,
   "id": "9dc09075-24d6-4aab-a5cb-294313de35bf",
   "metadata": {},
   "outputs": [
    {
     "data": {
      "text/plain": [
       "array([[ 2.  ,  8.8 ],\n",
       "       [ 1.  , 15.4 ],\n",
       "       [ 3.  , 10.45],\n",
       "       [ 2.  , 14.3 ],\n",
       "       [ 1.  ,  9.35],\n",
       "       [ 4.  ,  9.9 ],\n",
       "       [ 3.  ,  8.8 ],\n",
       "       [ 2.  ,   nan],\n",
       "       [ 3.  , 14.85],\n",
       "       [ 1.  , 11.  ],\n",
       "       [ 4.  ,  8.8 ],\n",
       "       [ 2.  ,   nan]])"
      ]
     },
     "execution_count": 17,
     "metadata": {},
     "output_type": "execute_result"
    }
   ],
   "source": [
    "#broadcastig a vector [1, 1.1] over X\n",
    "X_increse = X * [1, 1.1]\n",
    "X_increse"
   ]
  },
  {
   "cell_type": "code",
   "execution_count": 18,
   "id": "69b99035-73a2-4303-ac6d-5648cf88a32c",
   "metadata": {},
   "outputs": [
    {
     "data": {
      "text/plain": [
       "np.float64(259.05)"
      ]
     },
     "execution_count": 18,
     "metadata": {},
     "output_type": "execute_result"
    }
   ],
   "source": [
    "#computing new income as price * qty using a vectorization\n",
    "potential_income = np.nansum(X_increse[:,0] * X_increse[:,1])\n",
    "potential_income"
   ]
  },
  {
   "cell_type": "code",
   "execution_count": 19,
   "id": "e55fccff-d23f-4816-b4b9-68aeeaf9cb4a",
   "metadata": {},
   "outputs": [
    {
     "data": {
      "text/html": [
       "<div>\n",
       "<style scoped>\n",
       "    .dataframe tbody tr th:only-of-type {\n",
       "        vertical-align: middle;\n",
       "    }\n",
       "\n",
       "    .dataframe tbody tr th {\n",
       "        vertical-align: top;\n",
       "    }\n",
       "\n",
       "    .dataframe thead th {\n",
       "        text-align: right;\n",
       "    }\n",
       "</style>\n",
       "<table border=\"1\" class=\"dataframe\">\n",
       "  <thead>\n",
       "    <tr style=\"text-align: right;\">\n",
       "      <th></th>\n",
       "      <th>date</th>\n",
       "      <th>city</th>\n",
       "      <th>product</th>\n",
       "      <th>qty</th>\n",
       "      <th>price</th>\n",
       "      <th>revenue</th>\n",
       "    </tr>\n",
       "  </thead>\n",
       "  <tbody>\n",
       "    <tr>\n",
       "      <th>0</th>\n",
       "      <td>2020-01-01</td>\n",
       "      <td>Kraków</td>\n",
       "      <td>espresso</td>\n",
       "      <td>2</td>\n",
       "      <td>8.0</td>\n",
       "      <td>16.0</td>\n",
       "    </tr>\n",
       "    <tr>\n",
       "      <th>1</th>\n",
       "      <td>2020-01-01</td>\n",
       "      <td>Warszawa</td>\n",
       "      <td>latte</td>\n",
       "      <td>1</td>\n",
       "      <td>14.0</td>\n",
       "      <td>14.0</td>\n",
       "    </tr>\n",
       "    <tr>\n",
       "      <th>2</th>\n",
       "      <td>2020-01-02</td>\n",
       "      <td>Kraków</td>\n",
       "      <td>herbata</td>\n",
       "      <td>3</td>\n",
       "      <td>9.5</td>\n",
       "      <td>28.5</td>\n",
       "    </tr>\n",
       "    <tr>\n",
       "      <th>3</th>\n",
       "      <td>2020-01-02</td>\n",
       "      <td>Gdańsk</td>\n",
       "      <td>latte</td>\n",
       "      <td>2</td>\n",
       "      <td>13.0</td>\n",
       "      <td>26.0</td>\n",
       "    </tr>\n",
       "    <tr>\n",
       "      <th>4</th>\n",
       "      <td>2020-01-03</td>\n",
       "      <td>Kraków</td>\n",
       "      <td>espresso</td>\n",
       "      <td>1</td>\n",
       "      <td>8.5</td>\n",
       "      <td>8.5</td>\n",
       "    </tr>\n",
       "    <tr>\n",
       "      <th>5</th>\n",
       "      <td>2020-01-03</td>\n",
       "      <td>Warszawa</td>\n",
       "      <td>herbata</td>\n",
       "      <td>4</td>\n",
       "      <td>9.0</td>\n",
       "      <td>36.0</td>\n",
       "    </tr>\n",
       "    <tr>\n",
       "      <th>6</th>\n",
       "      <td>2020-01-04</td>\n",
       "      <td>Gdańsk</td>\n",
       "      <td>espresso</td>\n",
       "      <td>3</td>\n",
       "      <td>8.0</td>\n",
       "      <td>24.0</td>\n",
       "    </tr>\n",
       "    <tr>\n",
       "      <th>7</th>\n",
       "      <td>2020-01-04</td>\n",
       "      <td>Kraków</td>\n",
       "      <td>latte</td>\n",
       "      <td>2</td>\n",
       "      <td>NaN</td>\n",
       "      <td>NaN</td>\n",
       "    </tr>\n",
       "    <tr>\n",
       "      <th>8</th>\n",
       "      <td>2020-01-05</td>\n",
       "      <td>Warszawa</td>\n",
       "      <td>latte</td>\n",
       "      <td>3</td>\n",
       "      <td>13.5</td>\n",
       "      <td>40.5</td>\n",
       "    </tr>\n",
       "    <tr>\n",
       "      <th>9</th>\n",
       "      <td>2020-01-05</td>\n",
       "      <td>Gdańsk</td>\n",
       "      <td>herbata</td>\n",
       "      <td>1</td>\n",
       "      <td>10.0</td>\n",
       "      <td>10.0</td>\n",
       "    </tr>\n",
       "    <tr>\n",
       "      <th>10</th>\n",
       "      <td>2020-01-06</td>\n",
       "      <td>Kraków</td>\n",
       "      <td>espresso</td>\n",
       "      <td>4</td>\n",
       "      <td>8.0</td>\n",
       "      <td>32.0</td>\n",
       "    </tr>\n",
       "    <tr>\n",
       "      <th>11</th>\n",
       "      <td>2020-01-06</td>\n",
       "      <td>Warszawa</td>\n",
       "      <td>herbata</td>\n",
       "      <td>2</td>\n",
       "      <td>NaN</td>\n",
       "      <td>NaN</td>\n",
       "    </tr>\n",
       "  </tbody>\n",
       "</table>\n",
       "</div>"
      ],
      "text/plain": [
       "         date      city   product  qty  price  revenue\n",
       "0  2020-01-01    Kraków  espresso    2    8.0     16.0\n",
       "1  2020-01-01  Warszawa     latte    1   14.0     14.0\n",
       "2  2020-01-02    Kraków   herbata    3    9.5     28.5\n",
       "3  2020-01-02    Gdańsk     latte    2   13.0     26.0\n",
       "4  2020-01-03    Kraków  espresso    1    8.5      8.5\n",
       "5  2020-01-03  Warszawa   herbata    4    9.0     36.0\n",
       "6  2020-01-04    Gdańsk  espresso    3    8.0     24.0\n",
       "7  2020-01-04    Kraków     latte    2    NaN      NaN\n",
       "8  2020-01-05  Warszawa     latte    3   13.5     40.5\n",
       "9  2020-01-05    Gdańsk   herbata    1   10.0     10.0\n",
       "10 2020-01-06    Kraków  espresso    4    8.0     32.0\n",
       "11 2020-01-06  Warszawa   herbata    2    NaN      NaN"
      ]
     },
     "execution_count": 19,
     "metadata": {},
     "output_type": "execute_result"
    }
   ],
   "source": [
    "#adding new column to sales\n",
    "sales[\"revenue\"] = sales.qty * sales.price\n",
    "sales"
   ]
  },
  {
   "cell_type": "code",
   "execution_count": 20,
   "id": "dcf4a979-0f23-439f-b921-a02acdc8b5bb",
   "metadata": {},
   "outputs": [
    {
     "data": {
      "text/html": [
       "<div>\n",
       "<style scoped>\n",
       "    .dataframe tbody tr th:only-of-type {\n",
       "        vertical-align: middle;\n",
       "    }\n",
       "\n",
       "    .dataframe tbody tr th {\n",
       "        vertical-align: top;\n",
       "    }\n",
       "\n",
       "    .dataframe thead th {\n",
       "        text-align: right;\n",
       "    }\n",
       "</style>\n",
       "<table border=\"1\" class=\"dataframe\">\n",
       "  <thead>\n",
       "    <tr style=\"text-align: right;\">\n",
       "      <th></th>\n",
       "      <th>date</th>\n",
       "      <th>city</th>\n",
       "      <th>product</th>\n",
       "      <th>qty</th>\n",
       "      <th>price</th>\n",
       "      <th>revenue</th>\n",
       "    </tr>\n",
       "  </thead>\n",
       "  <tbody>\n",
       "    <tr>\n",
       "      <th>0</th>\n",
       "      <td>2020-01-01</td>\n",
       "      <td>Kraków</td>\n",
       "      <td>espresso</td>\n",
       "      <td>2</td>\n",
       "      <td>8.0</td>\n",
       "      <td>16.0</td>\n",
       "    </tr>\n",
       "    <tr>\n",
       "      <th>10</th>\n",
       "      <td>2020-01-06</td>\n",
       "      <td>Kraków</td>\n",
       "      <td>espresso</td>\n",
       "      <td>4</td>\n",
       "      <td>8.0</td>\n",
       "      <td>32.0</td>\n",
       "    </tr>\n",
       "  </tbody>\n",
       "</table>\n",
       "</div>"
      ],
      "text/plain": [
       "         date    city   product  qty  price  revenue\n",
       "0  2020-01-01  Kraków  espresso    2    8.0     16.0\n",
       "10 2020-01-06  Kraków  espresso    4    8.0     32.0"
      ]
     },
     "execution_count": 20,
     "metadata": {},
     "output_type": "execute_result"
    }
   ],
   "source": [
    "#filtr 2 or more espresso from Kraków \n",
    "filtered = sales[\n",
    "    (sales['city'] == 'Kraków') &\n",
    "    (sales['product'] == 'espresso') &\n",
    "    (sales['qty'] >= 2)\n",
    "]\n",
    "filtered"
   ]
  },
  {
   "cell_type": "code",
   "execution_count": 21,
   "id": "70dcea47-4e1d-4af5-91b4-7761b7c0ce19",
   "metadata": {},
   "outputs": [
    {
     "data": {
      "text/plain": [
       "10    32.0\n",
       "0     16.0\n",
       "Name: revenue, dtype: float64"
      ]
     },
     "execution_count": 21,
     "metadata": {},
     "output_type": "execute_result"
    }
   ],
   "source": [
    "#data sorted descending\n",
    "filtered.revenue.sort_values(ascending=False)"
   ]
  },
  {
   "cell_type": "code",
   "execution_count": 22,
   "id": "e474608b-3fc6-4402-a1b0-2f3f35b7945e",
   "metadata": {},
   "outputs": [
    {
     "data": {
      "text/plain": [
       "np.int64(28)"
      ]
     },
     "execution_count": 22,
     "metadata": {},
     "output_type": "execute_result"
    }
   ],
   "source": [
    "#calculating the sum of poduct\n",
    "total_product = sales[\"qty\"].sum()\n",
    "total_product"
   ]
  },
  {
   "cell_type": "code",
   "execution_count": 23,
   "id": "772af1e7-d629-4297-a02f-6505c5b91e94",
   "metadata": {},
   "outputs": [
    {
     "data": {
      "text/plain": [
       "np.float64(23.55)"
      ]
     },
     "execution_count": 23,
     "metadata": {},
     "output_type": "execute_result"
    }
   ],
   "source": [
    "#calculating the average of revenue\n",
    "arg_revenue = sales[\"revenue\"].mean()\n",
    "arg_revenue"
   ]
  },
  {
   "cell_type": "code",
   "execution_count": 24,
   "id": "50bf8d2d-790e-4ba4-81ee-52044d6846fc",
   "metadata": {},
   "outputs": [
    {
     "data": {
      "text/plain": [
       "np.float64(9.25)"
      ]
     },
     "execution_count": 24,
     "metadata": {},
     "output_type": "execute_result"
    }
   ],
   "source": [
    "#calculating the median of price\n",
    "price_median = sales['price'].median()\n",
    "price_median"
   ]
  },
  {
   "cell_type": "code",
   "execution_count": 25,
   "id": "da41fcbb-a1c6-4ece-9ebe-3b2acb51fa03",
   "metadata": {},
   "outputs": [],
   "source": [
    "#saving changing sales to csv\n",
    "sales.to_csv(\"sales_clean.csv\", index=False)"
   ]
  },
  {
   "cell_type": "code",
   "execution_count": 26,
   "id": "3c44e63c-f864-4677-94c8-00cf0567922b",
   "metadata": {},
   "outputs": [
    {
     "name": "stdout",
     "output_type": "stream",
     "text": [
      "date,city,product,qty,price,revenue\n",
      "2020-01-01,Kraków,espresso,2,8.0,16.0\n",
      "2020-01-01,Warszawa,latte,1,14.0,14.0\n",
      "2020-01-02,Kraków,herbata,3,9.5,28.5\n",
      "2020-01-02,Gdańsk,latte,2,13.0,26.0\n",
      "2020-01-03,Kraków,espresso,1,8.5,8.5\n",
      "2020-01-03,Warszawa,herbata,4,9.0,36.0\n",
      "2020-01-04,Gdańsk,espresso,3,8.0,24.0\n",
      "2020-01-04,Kraków,latte,2,,\n",
      "2020-01-05,Warszawa,latte,3,13.5,40.5\n",
      "2020-01-05,Gdańsk,herbata,1,10.0,10.0\n",
      "2020-01-06,Kraków,espresso,4,8.0,32.0\n",
      "2020-01-06,Warszawa,herbata,2,,\n"
     ]
    }
   ],
   "source": [
    "!cat sales_clean.csv"
   ]
  },
  {
   "cell_type": "code",
   "execution_count": 27,
   "id": "2bf27fa9-f09c-4166-8708-0783e7960f39",
   "metadata": {},
   "outputs": [],
   "source": [
    "#saving columns date, product, revenue of sales in json\n",
    "sales_part = sales[[\"date\", \"product\", \"revenue\"]]\n",
    "sales_part.to_json(\"summary.json\", orient=\"records\")"
   ]
  },
  {
   "cell_type": "code",
   "execution_count": 28,
   "id": "96837aca-3bc3-4c52-9e53-8d188184370c",
   "metadata": {},
   "outputs": [
    {
     "name": "stdout",
     "output_type": "stream",
     "text": [
      "[{\"date\":1577836800000,\"product\":\"espresso\",\"revenue\":16.0},{\"date\":1577836800000,\"product\":\"latte\",\"revenue\":14.0},{\"date\":1577923200000,\"product\":\"herbata\",\"revenue\":28.5},{\"date\":1577923200000,\"product\":\"latte\",\"revenue\":26.0},{\"date\":1578009600000,\"product\":\"espresso\",\"revenue\":8.5},{\"date\":1578009600000,\"product\":\"herbata\",\"revenue\":36.0},{\"date\":1578096000000,\"product\":\"espresso\",\"revenue\":24.0},{\"date\":1578096000000,\"product\":\"latte\",\"revenue\":null},{\"date\":1578182400000,\"product\":\"latte\",\"revenue\":40.5},{\"date\":1578182400000,\"product\":\"herbata\",\"revenue\":10.0},{\"date\":1578268800000,\"product\":\"espresso\",\"revenue\":32.0},{\"date\":1578268800000,\"product\":\"herbata\",\"revenue\":null}]"
     ]
    }
   ],
   "source": [
    "!cat summary.json"
   ]
  },
  {
   "cell_type": "code",
   "execution_count": 29,
   "id": "6a623317-4e1f-4d8e-bd2b-df99e26d506e",
   "metadata": {},
   "outputs": [
    {
     "data": {
      "text/plain": [
       "date       datetime64[ns]\n",
       "city               object\n",
       "product            object\n",
       "qty                 int64\n",
       "price             float64\n",
       "revenue           float64\n",
       "dtype: object"
      ]
     },
     "execution_count": 29,
     "metadata": {},
     "output_type": "execute_result"
    }
   ],
   "source": [
    "#reading csv and proving that column date is datetype type\n",
    "sales_clean = pd.read_csv(\"sales_clean.csv\", parse_dates=[\"date\"])\n",
    "sales_clean.dtypes"
   ]
  }
 ],
 "metadata": {
  "kernelspec": {
   "display_name": "Python 3 (ipykernel)",
   "language": "python",
   "name": "python3"
  },
  "language_info": {
   "codemirror_mode": {
    "name": "ipython",
    "version": 3
   },
   "file_extension": ".py",
   "mimetype": "text/x-python",
   "name": "python",
   "nbconvert_exporter": "python",
   "pygments_lexer": "ipython3",
   "version": "3.11.13"
  }
 },
 "nbformat": 4,
 "nbformat_minor": 5
}
