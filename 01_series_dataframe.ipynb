{
 "cells": [
  {
   "cell_type": "code",
   "execution_count": 1,
   "id": "3d35f04e-c2be-4fce-b407-28e2ca36f442",
   "metadata": {},
   "outputs": [
    {
     "name": "stdout",
     "output_type": "stream",
     "text": [
      "Series:\n",
      "aa    11\n",
      "ab    12\n",
      "ac    13\n",
      "ad    14\n",
      "dtype: int64\n"
     ]
    }
   ],
   "source": [
    "import pandas as pd\n",
    "import numpy as np\n",
    "\n",
    "#Creating simple Series from list\n",
    "s = pd.Series([11, 12, 13, 14], index=['aa', 'ab', 'ac', 'ad'])\n",
    "print(\"Series:\")\n",
    "print(s)"
   ]
  },
  {
   "cell_type": "code",
   "execution_count": 3,
   "id": "a841ec6e-125f-40b6-beee-fdf50e3460ba",
   "metadata": {},
   "outputs": [
    {
     "name": "stdout",
     "output_type": "stream",
     "text": [
      "DataFrame:\n",
      "  first name  age      city\n",
      "0        Ala   23  Warszawa\n",
      "1        Ola   25    Kraków\n",
      "2       Ania   36    Gdańsk\n",
      "3      Agata   32   Wrocław\n"
     ]
    }
   ],
   "source": [
    "#Creating simple DataFrame from dictionary\n",
    "data = {\n",
    "    \"first name\" : [\"Ala\", \"Ola\", \"Ania\", \"Agata\"],\n",
    "    \"age\": [23, 25, 36, 32],\n",
    "    \"city\": [\"Warszawa\", \"Kraków\", \"Gdańsk\", \"Wrocław\"]\n",
    "}\n",
    "df = pd.DataFrame(data)\n",
    "print(\"DataFrame:\")\n",
    "print(df)"
   ]
  },
  {
   "cell_type": "code",
   "execution_count": 7,
   "id": "83d219a0-1d4d-4e73-a762-789e3b124942",
   "metadata": {},
   "outputs": [
    {
     "name": "stdout",
     "output_type": "stream",
     "text": [
      "Average age: 29.0\n",
      "First name of people older than 22:\n",
      "0      Ala\n",
      "1      Ola\n",
      "2     Ania\n",
      "3    Agata\n",
      "Name: first name, dtype: object\n"
     ]
    }
   ],
   "source": [
    "print(\"Average age:\", df[\"age\"].mean())\n",
    "print(\"First name of people older than 22:\")\n",
    "print(df[df[\"age\"] > 22][\"first name\"])"
   ]
  },
  {
   "cell_type": "code",
   "execution_count": null,
   "id": "c20153c4-3bfe-4ac9-93ca-499ccc5feddf",
   "metadata": {},
   "outputs": [],
   "source": []
  }
 ],
 "metadata": {
  "kernelspec": {
   "display_name": "Python 3 (ipykernel)",
   "language": "python",
   "name": "python3"
  },
  "language_info": {
   "codemirror_mode": {
    "name": "ipython",
    "version": 3
   },
   "file_extension": ".py",
   "mimetype": "text/x-python",
   "name": "python",
   "nbconvert_exporter": "python",
   "pygments_lexer": "ipython3",
   "version": "3.11.13"
  }
 },
 "nbformat": 4,
 "nbformat_minor": 5
}
